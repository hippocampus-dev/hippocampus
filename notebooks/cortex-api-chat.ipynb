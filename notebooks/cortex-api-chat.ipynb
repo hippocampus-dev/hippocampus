{
 "cells": [
  {
   "cell_type": "code",
   "execution_count": 1,
   "id": "e77f74b9-1386-487d-9124-1209ddeb52ed",
   "metadata": {
    "editable": false
   },
   "outputs": [
    {
     "name": "stdout",
     "output_type": "stream",
     "text": [
      "{'id': 'chatcmpl-9Y6wTca7sItHvoAbxarPH94KJjiqP', 'choices': [{'finish_reason': 'stop', 'index': 0, 'logprobs': None, 'message': {'content': 'こんにちは！何かお手伝いできることがありますか？', 'role': 'assistant', 'function_call': None, 'tool_calls': None}}], 'created': 1717916865, 'model': 'gpt-4o-2024-05-13', 'object': 'chat.completion', 'system_fingerprint': 'fp_319be4768e', 'usage': {'completion_tokens': 15, 'prompt_tokens': 319, 'total_tokens': 334}}\n"
     ]
    }
   ],
   "source": [
    "import requests\n",
    "\n",
    "r = requests.post(\"http://cortex-api.cortex-api.svc.cluster.local:8080/v1/chat/completions\", json={\n",
    "    \"messages\": [\n",
    "        {\n",
    "            \"role\": \"user\",\n",
    "            \"content\": \"hi\",\n",
    "        }\n",
    "    ],\n",
    "}, headers={\n",
    "    \"Content-Type\": \"application/json\",\n",
    "})\n",
    "\n",
    "print(r.json())"
   ]
  }
 ],
 "metadata": {
  "kernelspec": {
   "display_name": "Python 3 (ipykernel)",
   "language": "python",
   "name": "python3"
  },
  "language_info": {
   "codemirror_mode": {
    "name": "ipython",
    "version": 3
   },
   "file_extension": ".py",
   "mimetype": "text/x-python",
   "name": "python",
   "nbconvert_exporter": "python",
   "pygments_lexer": "ipython3",
   "version": "3.11.8"
  }
 },
 "nbformat": 4,
 "nbformat_minor": 5
}
