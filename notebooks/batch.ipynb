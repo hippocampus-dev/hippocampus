{
 "cells": [
  {
   "cell_type": "code",
   "execution_count": null,
   "id": "f126be9b-bf8d-40b5-b577-3c137f1622ac",
   "metadata": {},
   "outputs": [],
   "source": [
    "import getpass\n",
    "\n",
    "api_key = getpass.getpass(prompt=\"OpenAI API Key: \")"
   ]
  },
  {
   "cell_type": "code",
   "execution_count": null,
   "id": "d4e174f0-2b0c-4b29-ad80-7f3e9ccaeb77",
   "metadata": {},
   "outputs": [],
   "source": [
    "!pip install openai"
   ]
  },
  {
   "cell_type": "code",
   "execution_count": null,
   "id": "f561290c-ec93-41b0-bd8f-05b10a30e48f",
   "metadata": {},
   "outputs": [],
   "source": [
    "import datetime\n",
    "import getpass\n",
    "import tempfile\n",
    "\n",
    "import openai\n",
    "\n",
    "CHUNK_SIZE = 50000\n",
    "\n",
    "if \"api_key\" not in locals():\n",
    "    api_key = getpass.getpass(prompt=\"OpenAI API Key: \")\n",
    "\n",
    "client = openai.OpenAI(\n",
    "    api_key=api_key,\n",
    ")\n",
    "\n",
    "batch_ids = []\n",
    "\n",
    "f = open(\"input.jsonl\")\n",
    "\n",
    "lines = f.readlines()\n",
    "for i in range(0, len(lines), CHUNK_SIZE):\n",
    "    chunk = lines[i:i + CHUNK_SIZE]\n",
    "\n",
    "    with tempfile.NamedTemporaryFile() as tempf:\n",
    "        tempf.write(\"\\n\".join(chunk).encode(\"utf-8\"))\n",
    "        tempf.seek(0)\n",
    "\n",
    "        input_file = client.files.create(\n",
    "            file=tempf.file,\n",
    "            purpose=\"batch\",\n",
    "        )\n",
    "\n",
    "        response = client.batches.create(\n",
    "            input_file_id=input_file.id,\n",
    "            endpoint=\"/v1/chat/completions\",\n",
    "            completion_window=\"24h\",\n",
    "            metadata={\n",
    "                \"chunk\": f\"{i // CHUNK_SIZE}\",\n",
    "            }\n",
    "        )\n",
    "\n",
    "        batch_ids.append(response.id)\n",
    "\n",
    "f.close()\n",
    "\n",
    "batch_ids_file = datetime.datetime.now().isoformat()\n",
    "\n",
    "with open(batch_ids_file, \"w\") as f:\n",
    "    f.write(\"\\n\".join(batch_ids))"
   ]
  },
  {
   "cell_type": "code",
   "execution_count": null,
   "id": "5d1972db-68ed-4292-97cb-09142ae49ed4",
   "metadata": {},
   "outputs": [],
   "source": [
    "import getpass\n",
    "\n",
    "import openai\n",
    "\n",
    "if \"api_key\" not in locals():\n",
    "    api_key = getpass.getpass(prompt=\"OpenAI API Key: \")\n",
    "\n",
    "client = openai.OpenAI(\n",
    "    api_key=api_key,\n",
    ")\n",
    "\n",
    "if \"batch_ids_file\" not in locals():\n",
    "    batch_ids_file = input(\"Enter execution file: \")\n",
    "\n",
    "f = open(batch_ids_file)\n",
    "\n",
    "batch_ids = f.readlines()\n",
    "\n",
    "with open(f\"{batch_ids_file}.done\", \"wb\") as w:\n",
    "    for batch_id in batch_ids:\n",
    "        batch = client.batches.retrieve(batch_id.strip())\n",
    "        match batch.status:\n",
    "            case \"completed\":\n",
    "                w.write(client.files.content(batch.output_file_id).read())\n",
    "            case \"failed\":\n",
    "                w.write(client.files.content(batch.error_file_id).read())\n",
    "            case _:\n",
    "                print(batch.status)\n",
    "\n",
    "f.close()"
   ]
  }
 ],
 "metadata": {
  "kernelspec": {
   "display_name": "Python 3 (ipykernel)",
   "language": "python",
   "name": "python3"
  },
  "language_info": {
   "codemirror_mode": {
    "name": "ipython",
    "version": 3
   },
   "file_extension": ".py",
   "mimetype": "text/x-python",
   "name": "python",
   "nbconvert_exporter": "python",
   "pygments_lexer": "ipython3",
   "version": "3.11.8"
  }
 },
 "nbformat": 4,
 "nbformat_minor": 5
}
