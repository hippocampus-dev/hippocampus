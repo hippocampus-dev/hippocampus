{
 "cells": [
  {
   "cell_type": "code",
   "execution_count": 1,
   "id": "7b0245d4-0409-417c-a3af-e3a2af9e9cc8",
   "metadata": {
    "jupyter": {
     "editable": false,
     "source_hidden": true
    }
   },
   "outputs": [
    {
     "data": {
      "application/vnd.jupyter.widget-view+json": {
       "model_id": "726160a838f94cc0968d1cda2b11dc42",
       "version_major": 2,
       "version_minor": 0
      },
      "text/plain": [
       "Text(value='White Dog', description='Prompt: ')"
      ]
     },
     "metadata": {},
     "output_type": "display_data"
    },
    {
     "data": {
      "application/vnd.jupyter.widget-view+json": {
       "model_id": "db30fc6708cb4d349444872f59f89b5b",
       "version_major": 2,
       "version_minor": 0
      },
      "text/plain": [
       "Dropdown(description='Model: ', index=1, options=('dall-e-2', 'dall-e-3'), value='dall-e-3')"
      ]
     },
     "metadata": {},
     "output_type": "display_data"
    },
    {
     "data": {
      "application/vnd.jupyter.widget-view+json": {
       "model_id": "41e172c86575460dae17f073db0e817f",
       "version_major": 2,
       "version_minor": 0
      },
      "text/plain": [
       "IntSlider(value=1, description='Number: ', max=10, min=1)"
      ]
     },
     "metadata": {},
     "output_type": "display_data"
    },
    {
     "data": {
      "application/vnd.jupyter.widget-view+json": {
       "model_id": "613942629b504b588e7cba0489178fe7",
       "version_major": 2,
       "version_minor": 0
      },
      "text/plain": [
       "Dropdown(description='Quality: ', index=1, options=('standard', 'hd'), value='hd')"
      ]
     },
     "metadata": {},
     "output_type": "display_data"
    },
    {
     "data": {
      "application/vnd.jupyter.widget-view+json": {
       "model_id": "67761160aa19408996c47fabd62cc957",
       "version_major": 2,
       "version_minor": 0
      },
      "text/plain": [
       "Dropdown(description='Size: ', index=2, options=('256x256', '512x512', '1024x1024', '1792x1024', '1024x1792'),…"
      ]
     },
     "metadata": {},
     "output_type": "display_data"
    },
    {
     "data": {
      "application/vnd.jupyter.widget-view+json": {
       "model_id": "011fdde10168496fae9a3275747acd1d",
       "version_major": 2,
       "version_minor": 0
      },
      "text/plain": [
       "Dropdown(description='Style: ', options=('vivid', 'natural'), value='vivid')"
      ]
     },
     "metadata": {},
     "output_type": "display_data"
    },
    {
     "data": {
      "application/vnd.jupyter.widget-view+json": {
       "model_id": "d77a1c8c531b4a428a8a9ff45284f2bb",
       "version_major": 2,
       "version_minor": 0
      },
      "text/plain": [
       "Button(description='Generate', style=ButtonStyle())"
      ]
     },
     "metadata": {},
     "output_type": "display_data"
    },
    {
     "data": {
      "application/vnd.jupyter.widget-view+json": {
       "model_id": "275d3e5d27d441eeb98f55b1203ee501",
       "version_major": 2,
       "version_minor": 0
      },
      "text/plain": [
       "Output()"
      ]
     },
     "metadata": {},
     "output_type": "display_data"
    }
   ],
   "source": [
    "import ipywidgets\n",
    "import IPython.display\n",
    "\n",
    "prompt = ipywidgets.widgets.Text(\n",
    "    value=\"White Dog\",\n",
    "    description=\"Prompt: \",\n",
    ")\n",
    "\n",
    "model = ipywidgets.widgets.Dropdown(\n",
    "    options=[\"dall-e-2\", \"dall-e-3\"],\n",
    "    value=\"dall-e-3\",\n",
    "    description=\"Model: \",\n",
    ")\n",
    "\n",
    "n = ipywidgets.widgets.IntSlider(\n",
    "    min=1,\n",
    "    max=10,\n",
    "    step=1,\n",
    "    value=1,\n",
    "    description=\"Number: \",\n",
    ")\n",
    "\n",
    "quality = ipywidgets.widgets.Dropdown(\n",
    "    options=[\"standard\", \"hd\"],\n",
    "    value=\"hd\",\n",
    "    description=\"Quality: \",\n",
    ")\n",
    "\n",
    "size = ipywidgets.widgets.Dropdown(\n",
    "    options=[\"256x256\", \"512x512\", \"1024x1024\", \"1792x1024\", \"1024x1792\"],\n",
    "    value=\"1024x1024\",\n",
    "    description=\"Size: \",\n",
    ")\n",
    "\n",
    "style = ipywidgets.widgets.Dropdown(\n",
    "    options=[\"vivid\", \"natural\"],\n",
    "    value=\"vivid\",\n",
    "    description=\"Style: \",\n",
    ")\n",
    "\n",
    "output = ipywidgets.widgets.Output()\n",
    "\n",
    "button = ipywidgets.widgets.Button(\n",
    "    description=\"Generate\",\n",
    ")\n",
    "\n",
    "\n",
    "@output.capture()\n",
    "def generate(b: ipywidgets.widgets.Button):\n",
    "    import requests\n",
    "    import base64\n",
    "\n",
    "    b.disabled = True\n",
    "\n",
    "    r = requests.post(\"http://cortex-api.cortex-api.svc.cluster.local:8080/v1/images/generations\", json={\n",
    "        \"prompt\": prompt.value,\n",
    "        \"model\": model.value,\n",
    "        \"n\": n.value,\n",
    "        \"quality\": quality.value,\n",
    "        \"response_format\": \"b64_json\",\n",
    "        \"size\": size.value,\n",
    "        \"style\": style.value,\n",
    "    }, headers={\n",
    "        \"Content-Type\": \"application/json\"\n",
    "    })\n",
    "\n",
    "    response = r.json()\n",
    "\n",
    "    if \"error\" in response:\n",
    "        import sys\n",
    "        print(response[\"error\"][\"message\"], file=sys.stderr)\n",
    "        sys.exit(1)\n",
    "\n",
    "    images = []\n",
    "    for image in response.get(\"data\", []):\n",
    "        if \"revised_prompt\" in image:\n",
    "            print(image[\"revised_prompt\"])\n",
    "        data = base64.b64decode(image[\"b64_json\"])\n",
    "        images.append(IPython.display.Image(data=data))\n",
    "\n",
    "    IPython.display.display(*images)\n",
    "\n",
    "    b.disabled = False\n",
    "\n",
    "\n",
    "button.on_click(generate)\n",
    "\n",
    "IPython.display.display(prompt, model, n, quality, size, style, button, output)"
   ]
  }
 ],
 "metadata": {
  "kernelspec": {
   "display_name": "Python 3 (ipykernel)",
   "language": "python",
   "name": "python3"
  },
  "language_info": {
   "codemirror_mode": {
    "name": "ipython",
    "version": 3
   },
   "file_extension": ".py",
   "mimetype": "text/x-python",
   "name": "python",
   "nbconvert_exporter": "python",
   "pygments_lexer": "ipython3",
   "version": "3.11.8"
  }
 },
 "nbformat": 4,
 "nbformat_minor": 5
}
